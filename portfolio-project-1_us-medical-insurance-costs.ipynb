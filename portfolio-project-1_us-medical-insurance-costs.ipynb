{
 "cells": [
  {
   "cell_type": "markdown",
   "metadata": {},
   "source": [
    "# U.S. Medical Insurance Costs"
   ]
  },
  {
   "cell_type": "markdown",
   "metadata": {},
   "source": [
    "This project investigates a medical insurance cost dataset using Python. We will be examining stats like:\n",
    "\n",
    "* average age of patients with children\n",
    "* average cost of insurance for patients depending on sex, region, smoker status\n",
    "* region where most patients reside\n",
    "\n",
    "The first step is to import the CSV library."
   ]
  },
  {
   "cell_type": "code",
   "execution_count": 1,
   "metadata": {},
   "outputs": [],
   "source": [
    "#Import csv library\n",
    "import csv"
   ]
  },
  {
   "cell_type": "markdown",
   "metadata": {},
   "source": [
    "Next, the dataset **insurance.csv** must be imported using the csv library."
   ]
  },
  {
   "cell_type": "code",
   "execution_count": 2,
   "metadata": {},
   "outputs": [],
   "source": [
    "#Function to read data from csv file and add to lists\n",
    "def read_csv(column_name, column_list):\n",
    "    with open('insurance.csv', newline = \"\") as insurance:\n",
    "        insurance_costs = csv.DictReader(insurance)\n",
    "        for row in insurance_costs:\n",
    "            column_list.append(row[column_name])"
   ]
  },
  {
   "cell_type": "markdown",
   "metadata": {},
   "source": [
    "**insurance.csv** contains the following columns:\n",
    "* Patient Age\n",
    "* Patient Sex \n",
    "* Patient BMI\n",
    "* Patient Number of Children\n",
    "* Patient Smoking Status\n",
    "* Patient U.S Geopraphical Region\n",
    "* Patient Yearly Medical Insurance Cost\n",
    "\n",
    "There are no signs of missing data. To store this information, seven empty lists will be created to hold each column of data."
   ]
  },
  {
   "cell_type": "code",
   "execution_count": 3,
   "metadata": {},
   "outputs": [],
   "source": [
    "#Create empty lists to store each column of data from the csv\n",
    "ages = []\n",
    "sexes = []\n",
    "bmis = []\n",
    "num_children = []\n",
    "smoker_status = []\n",
    "regions = []\n",
    "insurance_charges = []"
   ]
  },
  {
   "cell_type": "markdown",
   "metadata": {},
   "source": [
    "We can call the read_csv function to load each empty list with data from the dataset."
   ]
  },
  {
   "cell_type": "code",
   "execution_count": 4,
   "metadata": {},
   "outputs": [],
   "source": [
    "#Call function to fill lists\n",
    "read_csv(\"age\", ages)\n",
    "read_csv(\"sex\", sexes)\n",
    "read_csv(\"bmi\", bmis)\n",
    "read_csv(\"children\", num_children)\n",
    "read_csv(\"smoker\", smoker_status)\n",
    "read_csv(\"region\", regions)\n",
    "read_csv(\"charges\", insurance_charges)"
   ]
  },
  {
   "cell_type": "markdown",
   "metadata": {},
   "source": [
    "A dictionary of all the data will need to be created in order to thoroughly investigate this dataset. Each patient's data will be set up as a dictionary value, under a unique numerical key, since the data is anonymous."
   ]
  },
  {
   "cell_type": "code",
   "execution_count": 5,
   "metadata": {},
   "outputs": [],
   "source": [
    "#Function to create dictionary of all data, using numbers as the keys since the data is anonymous\n",
    "def create_dict():\n",
    "    all_dict = {}\n",
    "    i = 0\n",
    "    while i < len(ages):\n",
    "        single_dict = {}\n",
    "        single_dict.update({\"Age\": ages[i], \n",
    "                            \"Sex\": sexes[i], \n",
    "                            \"BMI\": bmis[i], \n",
    "                            \"Children\": num_children[i],\n",
    "                            \"Smoker\": smoker_status[i],\n",
    "                            \"Region\": regions[i],\n",
    "                            \"Charges\": insurance_charges[i]\n",
    "                           })\n",
    "        all_dict[i] = single_dict\n",
    "        i += 1\n",
    "    return all_dict\n",
    "\n",
    "insurance_dict = create_dict()"
   ]
  },
  {
   "cell_type": "markdown",
   "metadata": {},
   "source": [
    "Now that the dictionary and lists have been created, we can start investigating this dataset.\n",
    "\n",
    "We may want to examine the average insurance costs for a group of patients. We can create a reusable function to find the average cost of any list of costs."
   ]
  },
  {
   "cell_type": "code",
   "execution_count": 6,
   "metadata": {},
   "outputs": [],
   "source": [
    "#Function to find average cost of a list\n",
    "def find_average_cost(cost_list):\n",
    "    total_cost = 0\n",
    "    for cost in cost_list:\n",
    "        total_cost += float(cost)\n",
    "    average_cost = total_cost / len(cost_list)\n",
    "    return round(average_cost,2)"
   ]
  },
  {
   "cell_type": "markdown",
   "metadata": {},
   "source": [
    "We can also use a function to create that list of costs based on another categorical key/value."
   ]
  },
  {
   "cell_type": "code",
   "execution_count": 7,
   "metadata": {},
   "outputs": [],
   "source": [
    "#Function to create list of values based on another categorical key/value\n",
    "def create_cost_list(key, value):\n",
    "    cost_list = []\n",
    "    for patient in insurance_dict.values():\n",
    "        if patient[key] == value:\n",
    "            cost_list.append(patient[\"Charges\"])\n",
    "    return cost_list"
   ]
  },
  {
   "cell_type": "markdown",
   "metadata": {},
   "source": [
    "Here we use the above functions to create a list of insurance costs for females, and a list for males. Then we can find the average cost of each list.\n",
    "\n",
    "The cost for males is only slightly higher than for females."
   ]
  },
  {
   "cell_type": "code",
   "execution_count": 8,
   "metadata": {},
   "outputs": [
    {
     "name": "stdout",
     "output_type": "stream",
     "text": [
      "The average insurance cost for males is 13956.75 while the average cost for females is 12569.58\n"
     ]
    }
   ],
   "source": [
    "#Call functions to create list of female and male costs, then find the average cost of each\n",
    "avg_female_cost = find_average_cost(create_cost_list(\"Sex\", \"female\"))\n",
    "avg_male_cost = find_average_cost(create_cost_list(\"Sex\", \"male\"))\n",
    "print(\"The average insurance cost for males is \" + str(avg_male_cost) + \" while the average cost for females is \" + str(avg_female_cost))"
   ]
  },
  {
   "cell_type": "markdown",
   "metadata": {},
   "source": [
    "Here we use the above functions to create a list of insurance costs for smokers, and a list for non-smokers. Then we can find the average cost of each list. \n",
    "\n",
    "You will notice that the cost for smokers is much higher than that for non-smokers."
   ]
  },
  {
   "cell_type": "code",
   "execution_count": 9,
   "metadata": {},
   "outputs": [
    {
     "name": "stdout",
     "output_type": "stream",
     "text": [
      "The average insurance cost for smokers is 32050.23 while the average cost for non-smokers is 8434.27\n"
     ]
    }
   ],
   "source": [
    "#Call functions to create list of smoker and non-smoker costs, then find the average cost of each\n",
    "avg_smoker_cost = find_average_cost(create_cost_list(\"Smoker\", \"yes\"))\n",
    "avg_nonsmoker_cost = find_average_cost(create_cost_list(\"Smoker\", \"no\"))\n",
    "print(\"The average insurance cost for smokers is \" + str(avg_smoker_cost) + \" while the average cost for non-smokers is \" + str(avg_nonsmoker_cost))"
   ]
  },
  {
   "cell_type": "markdown",
   "metadata": {},
   "source": [
    "The dataset divides patients by 4 regions. Here we use the above functions to find the average cost for patients in each region.\n",
    "\n",
    "The highest cost is in the southeast region, and lowest is in the southwest."
   ]
  },
  {
   "cell_type": "code",
   "execution_count": 10,
   "metadata": {},
   "outputs": [
    {
     "name": "stdout",
     "output_type": "stream",
     "text": [
      "The average insurance cost for the northwest region is 12417.58\n",
      "The average insurance cost for the northeast region is 13406.38\n",
      "The average insurance cost for the southeast region is 14735.41\n",
      "The average insurance cost for the southwest region is 12346.94\n"
     ]
    }
   ],
   "source": [
    "#Call functions to create list of costs by region, then find the average cost of each region\n",
    "region_list = [\"northwest\", \"northeast\", \"southeast\", \"southwest\"]\n",
    "for region in region_list:\n",
    "    avg_cost = find_average_cost(create_cost_list(\"Region\", region))\n",
    "    print(\"The average insurance cost for the \" + region + \" region is \" + str(avg_cost))"
   ]
  },
  {
   "cell_type": "markdown",
   "metadata": {},
   "source": [
    "We can create a function to find the average age of patients in a specific list of patients."
   ]
  },
  {
   "cell_type": "code",
   "execution_count": 11,
   "metadata": {},
   "outputs": [],
   "source": [
    "#Function to find average age of patients\n",
    "def find_average_age(list):\n",
    "    total_age = 0\n",
    "    for age in list:\n",
    "        total_age += int(age)\n",
    "    average_age = total_age / len(list)\n",
    "    return int(average_age)"
   ]
  },
  {
   "cell_type": "markdown",
   "metadata": {},
   "source": [
    "We can use that function to examine the average age of all patients in the dataset."
   ]
  },
  {
   "cell_type": "code",
   "execution_count": 12,
   "metadata": {},
   "outputs": [
    {
     "name": "stdout",
     "output_type": "stream",
     "text": [
      "The average age of all patients is 39\n"
     ]
    }
   ],
   "source": [
    "avg_age_all_patients = find_average_age(ages)\n",
    "print(\"The average age of all patients is \" + str(avg_age_all_patients))"
   ]
  },
  {
   "cell_type": "markdown",
   "metadata": {},
   "source": [
    "It would be interesting to find out the average age of patients who have 1 or more children. Here we create a function to generate the list of patients with children."
   ]
  },
  {
   "cell_type": "code",
   "execution_count": 13,
   "metadata": {},
   "outputs": [],
   "source": [
    "#Function to create list of patient's ages who have one or more children\n",
    "def create_age_list():\n",
    "    age_list = []\n",
    "    for patient in insurance_dict.values():\n",
    "        if int(patient[\"Children\"]) > 0:\n",
    "            age_list.append(patient[\"Age\"])\n",
    "    return age_list"
   ]
  },
  {
   "cell_type": "markdown",
   "metadata": {},
   "source": [
    "We can call the above functions to generate the list and then calculate the average age of patients with children.\n",
    "\n",
    "You will notice that the average age of patients with children is the same as the average age of all patients. This could suggest that the patient data includes mostly patients of child-bearing age."
   ]
  },
  {
   "cell_type": "code",
   "execution_count": 14,
   "metadata": {},
   "outputs": [
    {
     "name": "stdout",
     "output_type": "stream",
     "text": [
      "The average age of a patient with 1 or more children is 39\n"
     ]
    }
   ],
   "source": [
    "#Call functions to create list of ages with at least 1 child, then find average age\n",
    "avg_age_with_children = find_average_age(create_age_list())\n",
    "print(\"The average age of a patient with 1 or more children is \" + str(avg_age_with_children))"
   ]
  },
  {
   "cell_type": "markdown",
   "metadata": {},
   "source": [
    "We can find out where most of the patients live. First we must create a function to find the highest count of patients based on a particular column, in this case we will be using the Region column."
   ]
  },
  {
   "cell_type": "code",
   "execution_count": 15,
   "metadata": {},
   "outputs": [],
   "source": [
    "#Function to count number of patients by key\n",
    "def find_highest_count(column):\n",
    "    counts_dict = {}\n",
    "    for patient in insurance_dict.values():\n",
    "        patient_key = patient[column]\n",
    "        if patient_key in counts_dict:\n",
    "            counts_dict[patient_key] += 1\n",
    "        else:\n",
    "            counts_dict[patient_key] = 1\n",
    "    highest = max(counts_dict, key=counts_dict.get)\n",
    "    return highest"
   ]
  },
  {
   "cell_type": "code",
   "execution_count": 16,
   "metadata": {},
   "outputs": [
    {
     "name": "stdout",
     "output_type": "stream",
     "text": [
      "Most patients are from the southeast\n"
     ]
    }
   ],
   "source": [
    "#Call function to analyze where the majority of patients are from\n",
    "most_popular_region = find_highest_count(\"Region\")\n",
    "print(\"Most patients are from the \" + most_popular_region)"
   ]
  }
 ],
 "metadata": {
  "kernelspec": {
   "display_name": "Python 3 (ipykernel)",
   "language": "python",
   "name": "python3"
  },
  "language_info": {
   "codemirror_mode": {
    "name": "ipython",
    "version": 3
   },
   "file_extension": ".py",
   "mimetype": "text/x-python",
   "name": "python",
   "nbconvert_exporter": "python",
   "pygments_lexer": "ipython3",
   "version": "3.9.13"
  }
 },
 "nbformat": 4,
 "nbformat_minor": 4
}
